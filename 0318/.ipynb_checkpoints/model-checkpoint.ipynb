{
 "cells": [
  {
   "cell_type": "code",
   "execution_count": null,
   "id": "cce8c9f7",
   "metadata": {},
   "outputs": [],
   "source": [
    "import tensorflow as tf\n",
    "from tensorflow import keras\n",
    "from tensorflow.keras import layers\n",
    "from tensorflow.keras.datasets import mnist\n",
    "import matplotlib.pyplot as plt\n",
    "from tensorflow.keras.models import Sequential\n",
    "from tensorflow.keras.layers import Dense"
   ]
  },
  {
   "cell_type": "code",
   "execution_count": null,
   "id": "055384a7",
   "metadata": {},
   "outputs": [],
   "source": [
    "(x_train ,y_train), (x_valid, y_valid) = mnist.load_data()"
   ]
  },
  {
   "cell_type": "code",
   "execution_count": null,
   "id": "c20c715c",
   "metadata": {},
   "outputs": [],
   "source": [
    "x_train.shape"
   ]
  },
  {
   "cell_type": "code",
   "execution_count": null,
   "id": "7109068d",
   "metadata": {},
   "outputs": [],
   "source": [
    "x_valid.shape"
   ]
  },
  {
   "cell_type": "code",
   "execution_count": null,
   "id": "ab77a5ef",
   "metadata": {},
   "outputs": [],
   "source": [
    "x_train.dtype\n",
    "#uint8 代表沒有正負號的8位元整數"
   ]
  },
  {
   "cell_type": "code",
   "execution_count": null,
   "id": "a8d199e9",
   "metadata": {},
   "outputs": [],
   "source": [
    "x_train.min()"
   ]
  },
  {
   "cell_type": "code",
   "execution_count": null,
   "id": "e92cbf3d",
   "metadata": {},
   "outputs": [],
   "source": [
    "x_train.max()"
   ]
  },
  {
   "cell_type": "code",
   "execution_count": null,
   "id": "c58c4fba",
   "metadata": {},
   "outputs": [],
   "source": [
    "x_train[0]\n",
    "#數字越大代表顏色越白"
   ]
  },
  {
   "cell_type": "code",
   "execution_count": null,
   "id": "f96472c4",
   "metadata": {},
   "outputs": [],
   "source": [
    "#flatten 28*28 = 784\n",
    "x_train = x_train.reshape(60000, 784)\n",
    "x_valid = x_valid.reshape(10000, 784)"
   ]
  },
  {
   "cell_type": "code",
   "execution_count": null,
   "id": "ac3718c2",
   "metadata": {},
   "outputs": [],
   "source": [
    "x_train[0]"
   ]
  },
  {
   "cell_type": "code",
   "execution_count": null,
   "id": "422f17f4",
   "metadata": {},
   "outputs": [],
   "source": [
    "#normailzation\n",
    "x_train = x_train / 255\n",
    "x_valid = x_valid / 255"
   ]
  },
  {
   "cell_type": "code",
   "execution_count": null,
   "id": "5db5ea5a",
   "metadata": {},
   "outputs": [],
   "source": [
    "x_train.max()"
   ]
  },
  {
   "cell_type": "code",
   "execution_count": null,
   "id": "5d7829e3",
   "metadata": {},
   "outputs": [],
   "source": [
    "x_train[0]"
   ]
  },
  {
   "cell_type": "code",
   "execution_count": null,
   "id": "8ee6c511",
   "metadata": {},
   "outputs": [],
   "source": [
    "x_train.dtype"
   ]
  },
  {
   "cell_type": "code",
   "execution_count": null,
   "id": "e6f04270",
   "metadata": {},
   "outputs": [],
   "source": [
    "y_train[0:9]"
   ]
  },
  {
   "cell_type": "code",
   "execution_count": null,
   "id": "a34a91a7",
   "metadata": {},
   "outputs": [],
   "source": [
    "# we do one hot encoding\n",
    "# 建立一個 10 維的向量，因為數字產生的距離差是沒有意義的\n",
    "# true answer 是第一類，但預測出來是第二類跟預測出來是第三類的loss應該相同\n",
    "\n",
    "num_categories = 10\n",
    "\n",
    "y_train = tf.keras.utils.to_categorical(y_train, num_categories)\n",
    "y_valid = tf.keras.utils.to_categorical(y_valid, num_categories)"
   ]
  },
  {
   "cell_type": "code",
   "execution_count": null,
   "id": "b89ea368",
   "metadata": {},
   "outputs": [],
   "source": [
    "y_train[0:9]"
   ]
  },
  {
   "cell_type": "code",
   "execution_count": null,
   "id": "4f6ebba6",
   "metadata": {},
   "outputs": [],
   "source": [
    "model = tf.keras.models.Sequential([\n",
    "        tf.keras.layers.Dense(512, activation= 'relu', input_shape= (784,)),\n",
    "        tf.keras.layers.Dense(512, activation= 'relu'),\n",
    "        tf.keras.layers.Dense(10, activation= 'softmax')\n",
    "])\n",
    "#做分類問題最後都要進 softmax 把值壓到 0~1 之間才能當作機率"
   ]
  },
  {
   "cell_type": "code",
   "execution_count": null,
   "id": "488568ed",
   "metadata": {},
   "outputs": [],
   "source": [
    "model = keras.Sequential()\n",
    "model.add(layers.Dense(512, activation= 'relu', input_shape= (784,)))\n",
    "model.add(layers.Dense(512, activation= 'relu'))\n",
    "model.add(layers.Dense(10, activation= 'softmax'))\n"
   ]
  }
 ],
 "metadata": {
  "kernelspec": {
   "display_name": "Python 3 (ipykernel)",
   "language": "python",
   "name": "python3"
  },
  "language_info": {
   "codemirror_mode": {
    "name": "ipython",
    "version": 3
   },
   "file_extension": ".py",
   "mimetype": "text/x-python",
   "name": "python",
   "nbconvert_exporter": "python",
   "pygments_lexer": "ipython3",
   "version": "3.9.7"
  }
 },
 "nbformat": 4,
 "nbformat_minor": 5
}
