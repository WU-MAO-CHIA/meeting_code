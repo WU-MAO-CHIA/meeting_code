{
 "cells": [
  {
   "cell_type": "code",
   "execution_count": 1,
   "metadata": {},
   "outputs": [],
   "source": [
    "import os\n",
    "import pandas as pd\n",
    "import numpy as np\n",
    "from tensorflow.keras.preprocessing.text import Tokenizer\n",
    "from tensorflow.keras.preprocessing.sequence import pad_sequences\n",
    "from tensorflow.keras import utils\n",
    "from tensorflow.keras.layers import Embedding, LSTM, Dense, Dropout\n",
    "from tensorflow.keras.models import Sequential"
   ]
  },
  {
   "cell_type": "code",
   "execution_count": 2,
   "metadata": {},
   "outputs": [
    {
     "data": {
      "text/plain": [
       "9335"
      ]
     },
     "execution_count": 2,
     "metadata": {},
     "output_type": "execute_result"
    }
   ],
   "source": [
    "nyt_dir = 'nyt_dataset/articles/'\n",
    "\n",
    "all_headlines = []\n",
    "for filename in os.listdir(nyt_dir):\n",
    "    if 'Articles' in filename:\n",
    "        headlines_df = pd.read_csv(nyt_dir + filename)\n",
    "        all_headlines.extend(list(headlines_df.headline.values))\n",
    "len(all_headlines)"
   ]
  },
  {
   "cell_type": "code",
   "execution_count": 3,
   "metadata": {},
   "outputs": [
    {
     "data": {
      "text/plain": [
       "['My Beijing: The Sacred City',\n",
       " '6 Million Riders a Day, 1930s Technology',\n",
       " 'Seeking a Cross-Border Conference',\n",
       " 'Questions for: ‘Despite the “Yuck Factor,” Leeches Are Big in Russian Medicine’',\n",
       " 'Who Is a ‘Criminal’?',\n",
       " 'An Antidote to Europe’s Populism',\n",
       " 'The Cost of a Speech',\n",
       " 'Degradation of the Language',\n",
       " 'On the Power of Being Awful',\n",
       " 'Trump Garbles Pitch on a Revised Health Bill',\n",
       " 'What’s Going On in This Picture? | May 1, 2017',\n",
       " 'Unknown',\n",
       " 'When Patients Hit a Medical Wall',\n",
       " 'Unknown',\n",
       " 'For Pregnant Women, Getting Serious About Whooping Cough',\n",
       " 'Unknown',\n",
       " 'New York City Transit Reporter in Wonderland: Riding the London Tube',\n",
       " 'How to Cut an Avocado Without Cutting Yourself',\n",
       " 'In Fictional Suicide, Health Experts Say They See a Real Cause for Alarm',\n",
       " 'Claims of Liberal Media Bias Hit ESPN, Too']"
      ]
     },
     "execution_count": 3,
     "metadata": {},
     "output_type": "execute_result"
    }
   ],
   "source": [
    "all_headlines[:20]"
   ]
  },
  {
   "cell_type": "code",
   "execution_count": 4,
   "metadata": {},
   "outputs": [
    {
     "data": {
      "text/plain": [
       "8603"
      ]
     },
     "execution_count": 4,
     "metadata": {},
     "output_type": "execute_result"
    }
   ],
   "source": [
    "all_headlines = [h for h in all_headlines if h != 'Unknown']\n",
    "len(all_headlines)"
   ]
  },
  {
   "cell_type": "code",
   "execution_count": 5,
   "metadata": {},
   "outputs": [
    {
     "data": {
      "text/plain": [
       "['My Beijing: The Sacred City',\n",
       " '6 Million Riders a Day, 1930s Technology',\n",
       " 'Seeking a Cross-Border Conference',\n",
       " 'Questions for: ‘Despite the “Yuck Factor,” Leeches Are Big in Russian Medicine’',\n",
       " 'Who Is a ‘Criminal’?',\n",
       " 'An Antidote to Europe’s Populism',\n",
       " 'The Cost of a Speech',\n",
       " 'Degradation of the Language',\n",
       " 'On the Power of Being Awful',\n",
       " 'Trump Garbles Pitch on a Revised Health Bill',\n",
       " 'What’s Going On in This Picture? | May 1, 2017',\n",
       " 'When Patients Hit a Medical Wall',\n",
       " 'For Pregnant Women, Getting Serious About Whooping Cough',\n",
       " 'New York City Transit Reporter in Wonderland: Riding the London Tube',\n",
       " 'How to Cut an Avocado Without Cutting Yourself',\n",
       " 'In Fictional Suicide, Health Experts Say They See a Real Cause for Alarm',\n",
       " 'Claims of Liberal Media Bias Hit ESPN, Too',\n",
       " 'Is the dream in Australia crumbling?',\n",
       " 'Police in Texas Change Account in Officer’s Fatal Shooting of 15-Year-Old',\n",
       " 'Most Adults Favor Sex Ed. Most Students Don’t Get It.']"
      ]
     },
     "execution_count": 5,
     "metadata": {},
     "output_type": "execute_result"
    }
   ],
   "source": [
    "all_headlines[:20]"
   ]
  },
  {
   "cell_type": "code",
   "execution_count": 6,
   "metadata": {},
   "outputs": [
    {
     "name": "stdout",
     "output_type": "stream",
     "text": [
      "Total words: 11753\n"
     ]
    }
   ],
   "source": [
    "tokenizer = Tokenizer()\n",
    "tokenizer.fit_on_texts(all_headlines)\n",
    "total_words = len(tokenizer.word_index) + 1\n",
    "print(f'Total words: {total_words}')"
   ]
  },
  {
   "cell_type": "code",
   "execution_count": 8,
   "metadata": {},
   "outputs": [
    {
     "name": "stdout",
     "output_type": "stream",
     "text": [
      "['my beijing', 'my beijing the', 'my beijing the sacred', 'my beijing the sacred city', '6 million']\n"
     ]
    },
    {
     "data": {
      "text/plain": [
       "[[52, 1616],\n",
       " [52, 1616, 1],\n",
       " [52, 1616, 1, 1992],\n",
       " [52, 1616, 1, 1992, 125],\n",
       " [126, 346]]"
      ]
     },
     "execution_count": 8,
     "metadata": {},
     "output_type": "execute_result"
    }
   ],
   "source": [
    "input_sequences = []\n",
    "for line in all_headlines:\n",
    "    token_list = tokenizer.texts_to_sequences([line])[0] # 將句子拆成一個個單字    \n",
    "    for i in range(1, len(token_list)):\n",
    "        partial_sequence = token_list[: i+1]\n",
    "        input_sequences.append(partial_sequence)\n",
    "\n",
    "print(tokenizer.sequences_to_texts(input_sequences[:5]))\n",
    "input_sequences[:5]"
   ]
  },
  {
   "cell_type": "code",
   "execution_count": 9,
   "metadata": {},
   "outputs": [
    {
     "data": {
      "text/plain": [
       "array([   0,    0,    0,    0,    0,    0,    0,    0,    0,    0,    0,\n",
       "          0,    0,    0,    0,    0,    0,    0,    0,    0,    0,    0,\n",
       "          0,   52, 1616,    1, 1992,  125], dtype=int32)"
      ]
     },
     "execution_count": 9,
     "metadata": {},
     "output_type": "execute_result"
    }
   ],
   "source": [
    "max_sequence_len = max([len(x) for x in input_sequences])\n",
    "\n",
    "input_sequences = np.array(pad_sequences(input_sequences, maxlen= max_sequence_len, padding='pre')) # padding: 需要補 0 時是從頭開始補 \n",
    "input_sequences[3]"
   ]
  },
  {
   "cell_type": "code",
   "execution_count": 10,
   "metadata": {},
   "outputs": [],
   "source": [
    "# Predictors are every word except the last\n",
    "predictors = input_sequences[:,:-1]\n",
    "# Labels are the last word\n",
    "labels = input_sequences[:,-1]\n",
    "labels[:5]\n",
    "labels = input_sequences[:,-1]\n",
    "labels = utils.to_categorical(labels, num_classes= total_words)"
   ]
  },
  {
   "cell_type": "code",
   "execution_count": 11,
   "metadata": {},
   "outputs": [],
   "source": [
    "input_len = max_sequence_len - 1\n",
    "model = Sequential([\n",
    "    Embedding(total_words, 10, input_length= input_len),\n",
    "    LSTM(100),\n",
    "    Dense(total_words, activation= 'relu'),\n",
    "    Dense(total_words, activation= 'softmax'),\n",
    "])"
   ]
  },
  {
   "cell_type": "code",
   "execution_count": 12,
   "metadata": {},
   "outputs": [
    {
     "name": "stdout",
     "output_type": "stream",
     "text": [
      "Model: \"sequential\"\n",
      "_________________________________________________________________\n",
      "Layer (type)                 Output Shape              Param #   \n",
      "=================================================================\n",
      "embedding (Embedding)        (None, 27, 10)            117530    \n",
      "_________________________________________________________________\n",
      "lstm (LSTM)                  (None, 100)               44400     \n",
      "_________________________________________________________________\n",
      "dense (Dense)                (None, 11753)             1187053   \n",
      "_________________________________________________________________\n",
      "dense_1 (Dense)              (None, 11753)             138144762 \n",
      "=================================================================\n",
      "Total params: 139,493,745\n",
      "Trainable params: 139,493,745\n",
      "Non-trainable params: 0\n",
      "_________________________________________________________________\n"
     ]
    }
   ],
   "source": [
    "model.summary()"
   ]
  },
  {
   "cell_type": "code",
   "execution_count": 13,
   "metadata": {},
   "outputs": [],
   "source": [
    "model.compile(loss= 'categorical_crossentropy', optimizer= 'adam', metrics=[\"accuracy\"])"
   ]
  },
  {
   "cell_type": "code",
   "execution_count": 14,
   "metadata": {},
   "outputs": [
    {
     "name": "stdout",
     "output_type": "stream",
     "text": [
      "Epoch 1/30\n",
      "1666/1666 [==============================] - 64s 39ms/step - loss: 7.7422 - accuracy: 0.0374\n",
      "Epoch 2/30\n",
      "1666/1666 [==============================] - 64s 38ms/step - loss: 7.2235 - accuracy: 0.0672\n",
      "Epoch 3/30\n",
      "1666/1666 [==============================] - 64s 39ms/step - loss: 6.7581 - accuracy: 0.0905\n",
      "Epoch 4/30\n",
      "1666/1666 [==============================] - 64s 39ms/step - loss: 6.3118 - accuracy: 0.1088\n",
      "Epoch 5/30\n",
      "1666/1666 [==============================] - 64s 39ms/step - loss: 5.8861 - accuracy: 0.1269\n",
      "Epoch 6/30\n",
      "1666/1666 [==============================] - 64s 38ms/step - loss: 5.4386 - accuracy: 0.1454\n",
      "Epoch 7/30\n",
      "1666/1666 [==============================] - 64s 38ms/step - loss: 4.9457 - accuracy: 0.1644\n",
      "Epoch 8/30\n",
      "1666/1666 [==============================] - 64s 38ms/step - loss: 4.3768 - accuracy: 0.1964\n",
      "Epoch 9/30\n",
      "1666/1666 [==============================] - 64s 38ms/step - loss: 3.7458 - accuracy: 0.2589\n",
      "Epoch 10/30\n",
      "1666/1666 [==============================] - 64s 38ms/step - loss: 3.1299 - accuracy: 0.3502\n",
      "Epoch 11/30\n",
      "1666/1666 [==============================] - 64s 39ms/step - loss: 2.5954 - accuracy: 0.4385\n",
      "Epoch 12/30\n",
      "1666/1666 [==============================] - 64s 39ms/step - loss: 2.1664 - accuracy: 0.5166\n",
      "Epoch 13/30\n",
      "1666/1666 [==============================] - 64s 38ms/step - loss: 1.8297 - accuracy: 0.5824\n",
      "Epoch 14/30\n",
      "1666/1666 [==============================] - 64s 38ms/step - loss: 1.5598 - accuracy: 0.6340\n",
      "Epoch 15/30\n",
      "1666/1666 [==============================] - 64s 38ms/step - loss: 1.3426 - accuracy: 0.6810\n",
      "Epoch 16/30\n",
      "1666/1666 [==============================] - 64s 38ms/step - loss: 1.1658 - accuracy: 0.7173\n",
      "Epoch 17/30\n",
      "1666/1666 [==============================] - 64s 38ms/step - loss: 1.0309 - accuracy: 0.7504\n",
      "Epoch 18/30\n",
      "1666/1666 [==============================] - 64s 38ms/step - loss: 0.9284 - accuracy: 0.7753\n",
      "Epoch 19/30\n",
      "1666/1666 [==============================] - 64s 39ms/step - loss: 0.8502 - accuracy: 0.7931\n",
      "Epoch 20/30\n",
      "1666/1666 [==============================] - 64s 39ms/step - loss: 0.7920 - accuracy: 0.8094\n",
      "Epoch 21/30\n",
      "1666/1666 [==============================] - 64s 39ms/step - loss: 0.7413 - accuracy: 0.8199\n",
      "Epoch 22/30\n",
      "1666/1666 [==============================] - 64s 39ms/step - loss: 0.7159 - accuracy: 0.8249\n",
      "Epoch 23/30\n",
      "1666/1666 [==============================] - 64s 38ms/step - loss: 0.6830 - accuracy: 0.8323\n",
      "Epoch 24/30\n",
      "1666/1666 [==============================] - 64s 38ms/step - loss: 0.6627 - accuracy: 0.8360\n",
      "Epoch 25/30\n",
      "1666/1666 [==============================] - 64s 38ms/step - loss: 0.6391 - accuracy: 0.8428\n",
      "Epoch 26/30\n",
      "1666/1666 [==============================] - 64s 38ms/step - loss: 0.6281 - accuracy: 0.8444\n",
      "Epoch 27/30\n",
      "1666/1666 [==============================] - 64s 38ms/step - loss: 0.6164 - accuracy: 0.8449\n",
      "Epoch 28/30\n",
      "1666/1666 [==============================] - 64s 38ms/step - loss: 0.6038 - accuracy: 0.8484\n",
      "Epoch 29/30\n",
      "1666/1666 [==============================] - 64s 38ms/step - loss: 0.5950 - accuracy: 0.8499\n",
      "Epoch 30/30\n",
      "1666/1666 [==============================] - 64s 38ms/step - loss: 0.5804 - accuracy: 0.8519\n"
     ]
    },
    {
     "data": {
      "text/plain": [
       "<tensorflow.python.keras.callbacks.History at 0x7fb408170b70>"
      ]
     },
     "execution_count": 14,
     "metadata": {},
     "output_type": "execute_result"
    }
   ],
   "source": [
    "model.fit(predictors, labels, epochs= 30, verbose= 1)"
   ]
  },
  {
   "cell_type": "code",
   "execution_count": 30,
   "metadata": {},
   "outputs": [],
   "source": [
    "def predict_next_token(seed_text):\n",
    "    token_list = tokenizer.texts_to_sequences([seed_text])[0]\n",
    "    token_list = pad_sequences([token_list], maxlen=max_sequence_len-1, padding='pre')\n",
    "    prediction = model.predict_classes(token_list, verbose=1)\n",
    "    return prediction"
   ]
  },
  {
   "cell_type": "code",
   "execution_count": 31,
   "metadata": {},
   "outputs": [
    {
     "name": "stdout",
     "output_type": "stream",
     "text": [
      "1/1 [==============================] - 0s 899us/step\n"
     ]
    },
    {
     "data": {
      "text/plain": [
       "array([338])"
      ]
     },
     "execution_count": 31,
     "metadata": {},
     "output_type": "execute_result"
    }
   ],
   "source": [
    "prediction = predict_next_token(\"today in new york\")\n",
    "prediction"
   ]
  },
  {
   "cell_type": "code",
   "execution_count": 32,
   "metadata": {},
   "outputs": [
    {
     "data": {
      "text/plain": [
       "['schools']"
      ]
     },
     "execution_count": 32,
     "metadata": {},
     "output_type": "execute_result"
    }
   ],
   "source": [
    "tokenizer.sequences_to_texts([prediction])"
   ]
  },
  {
   "cell_type": "code",
   "execution_count": 34,
   "metadata": {},
   "outputs": [],
   "source": [
    "def generate_headline(seed_text, next_words= 1):\n",
    "    for _ in range(next_words):\n",
    "        prediction = predict_next_token(seed_text)\n",
    "        next_word = tokenizer.sequences_to_texts([prediction])[0]\n",
    "        seed_text += ' ' + next_word\n",
    "        \n",
    "    return seed_text.title()"
   ]
  },
  {
   "cell_type": "code",
   "execution_count": 37,
   "metadata": {},
   "outputs": [
    {
     "name": "stdout",
     "output_type": "stream",
     "text": [
      "1/1 [==============================] - 0s 911us/step\n",
      "1/1 [==============================] - 0s 824us/step\n",
      "1/1 [==============================] - 0s 823us/step\n",
      "1/1 [==============================] - 0s 828us/step\n",
      "1/1 [==============================] - 0s 968us/step\n",
      "Washington Dc Is Not A Car Of A\n",
      "1/1 [==============================] - 0s 827us/step\n",
      "1/1 [==============================] - 0s 831us/step\n",
      "1/1 [==============================] - 0s 858us/step\n",
      "1/1 [==============================] - 0s 933us/step\n",
      "1/1 [==============================] - 0s 840us/step\n",
      "Today In New York Schools Calls The Anonymous May\n",
      "1/1 [==============================] - 0s 839us/step\n",
      "1/1 [==============================] - 0s 858us/step\n",
      "1/1 [==============================] - 0s 833us/step\n",
      "1/1 [==============================] - 0s 845us/step\n",
      "1/1 [==============================] - 0s 912us/step\n",
      "The School District Has Supposed To Little 100 Days\n",
      "1/1 [==============================] - 0s 787us/step\n",
      "1/1 [==============================] - 0s 835us/step\n",
      "1/1 [==============================] - 0s 1ms/step\n",
      "1/1 [==============================] - 0s 897us/step\n",
      "1/1 [==============================] - 0s 787us/step\n",
      "They Can Hit A Ball 400 Feet But Play\n"
     ]
    }
   ],
   "source": [
    "seed_texts = [\n",
    "    'washington dc is',\n",
    "    'today in new york',\n",
    "    'the school district has',\n",
    "    'They Can Hit a']\n",
    "for seed in seed_texts:\n",
    "    print(generate_headline(seed, next_words=5))"
   ]
  }
 ],
 "metadata": {
  "kernelspec": {
   "display_name": "Python 3",
   "language": "python",
   "name": "python3"
  },
  "language_info": {
   "codemirror_mode": {
    "name": "ipython",
    "version": 3
   },
   "file_extension": ".py",
   "mimetype": "text/x-python",
   "name": "python",
   "nbconvert_exporter": "python",
   "pygments_lexer": "ipython3",
   "version": "3.6.9"
  }
 },
 "nbformat": 4,
 "nbformat_minor": 5
}
