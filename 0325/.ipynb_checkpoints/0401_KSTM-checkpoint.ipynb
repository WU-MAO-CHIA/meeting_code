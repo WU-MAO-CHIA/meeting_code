{
 "cells": [
  {
   "cell_type": "code",
   "execution_count": null,
   "id": "d2274cc0",
   "metadata": {},
   "outputs": [],
   "source": [
    "import os\n",
    "import pandas as pd\n",
    "import numpy as np\n",
    "from tensorflow.keras.preprocessing.text import Tokenizer\n",
    "from tensorflow.keras.preprocessing.sequence import pad_sequences\n",
    "from tensorflow.keras import utils\n",
    "from tensorflow.keras.layers import Embedding, LSTM, Dense, Dropout\n",
    "from tensorflow.keras.models import Sequential"
   ]
  },
  {
   "cell_type": "code",
   "execution_count": null,
   "id": "00542e50",
   "metadata": {},
   "outputs": [],
   "source": [
    "nyt_dir = 'nyt_dataset/articles/'\n",
    "\n",
    "all_headlines = []\n",
    "for filename in os.listdir(nyt_dir):\n",
    "    if 'Articles' in filename:\n",
    "        headlines_df = pd.read_csv(nyt_dir + filename)\n",
    "        all_headlines.extend(list(headlines_df.headline.values))\n",
    "len(all_headlines)"
   ]
  },
  {
   "cell_type": "code",
   "execution_count": null,
   "id": "1f22a072",
   "metadata": {},
   "outputs": [],
   "source": [
    "all_headlines[:20]"
   ]
  },
  {
   "cell_type": "code",
   "execution_count": null,
   "id": "f4a80db3",
   "metadata": {},
   "outputs": [],
   "source": [
    "all_headlines = [h for h in all_headlines if h != 'Unknown']\n",
    "len(all_headlines)"
   ]
  },
  {
   "cell_type": "code",
   "execution_count": null,
   "id": "75cd2e96",
   "metadata": {},
   "outputs": [],
   "source": [
    "all_headlines[:20]"
   ]
  },
  {
   "cell_type": "code",
   "execution_count": null,
   "id": "27f7d416",
   "metadata": {},
   "outputs": [],
   "source": [
    "tokenizer = Tokenizer()\n",
    "tokenizer.fit_on_texts(all_headlines)\n",
    "total_words = len(tokenizer.word_index) + 1\n",
    "print(f'Total words: {total_words}')"
   ]
  },
  {
   "cell_type": "code",
   "execution_count": null,
   "id": "11aed50c",
   "metadata": {},
   "outputs": [],
   "source": [
    "tokenizer.texts_to_sequences(['a','man','a','plan','a','canal','panama'])"
   ]
  },
  {
   "cell_type": "code",
   "execution_count": null,
   "id": "e0d87251",
   "metadata": {},
   "outputs": [],
   "source": [
    "input_sequences = []\n",
    "for line in all_headlines:\n",
    "    token_list = tokenizer.texts_to_sequences([line])[0] # 將句子拆成一個個單字    \n",
    "    for i in range(1, len(token_list)):\n",
    "        partial_sequence = token_list[: i+1]\n",
    "        input_sequences.append(partial_sequence)\n",
    "\n",
    "print(tokenizer.sequences_to_texts(input_sequences[:5]))\n",
    "input_sequences[:5]"
   ]
  },
  {
   "cell_type": "code",
   "execution_count": null,
   "id": "1f1ad0e0",
   "metadata": {},
   "outputs": [],
   "source": [
    "max_sequence_len = max([len(x) for x in input_sequences])\n",
    "\n",
    "input_sequences = np.array(pad_sequences(input_sequences, maxlen= max_sequence_len, padding='pre')) # padding: 需要補 0 時是從頭開始補 \n",
    "input_sequences[3]"
   ]
  },
  {
   "cell_type": "code",
   "execution_count": null,
   "id": "cb7782fd",
   "metadata": {},
   "outputs": [],
   "source": [
    "# Predictors are every word except the last\n",
    "predictors = input_sequences[:,:-1]\n",
    "# Labels are the last word\n",
    "labels = input_sequences[:,-1]\n",
    "labels[:5]\n",
    "labels = input_sequences[:,-1]\n",
    "labels = utils.to_categorical(labels, num_classes= total_words)"
   ]
  },
  {
   "cell_type": "code",
   "execution_count": null,
   "id": "4672b38c",
   "metadata": {},
   "outputs": [],
   "source": [
    "input_len = max_sequence_len + 1\n",
    "model = Sequential([\n",
    "    Embedding(total_words, 10, input_length= input_len),\n",
    "    LSTM(100),\n",
    "    Dense(total_words, activation= 'softmax'),\n",
    "])"
   ]
  },
  {
   "cell_type": "code",
   "execution_count": null,
   "id": "d942d54b",
   "metadata": {},
   "outputs": [],
   "source": [
    "model.summary()"
   ]
  },
  {
   "cell_type": "code",
   "execution_count": null,
   "id": "36927bcc",
   "metadata": {},
   "outputs": [],
   "source": [
    "model.compile(loss= 'categorical_crossentropy', optimizer= 'adam')"
   ]
  },
  {
   "cell_type": "code",
   "execution_count": null,
   "id": "06c5f39e",
   "metadata": {},
   "outputs": [],
   "source": [
    "model.fit(predictors, labels, epochs= 30, verbose= 1)"
   ]
  },
  {
   "cell_type": "code",
   "execution_count": null,
   "id": "271e9d0f",
   "metadata": {},
   "outputs": [],
   "source": [
    "def predict_next_token(seed_text):\n",
    "    token_list = tokenizer.texts_"
   ]
  }
 ],
 "metadata": {
  "kernelspec": {
   "display_name": "Python 3 (ipykernel)",
   "language": "python",
   "name": "python3"
  },
  "language_info": {
   "codemirror_mode": {
    "name": "ipython",
    "version": 3
   },
   "file_extension": ".py",
   "mimetype": "text/x-python",
   "name": "python",
   "nbconvert_exporter": "python",
   "pygments_lexer": "ipython3",
   "version": "3.9.7"
  }
 },
 "nbformat": 4,
 "nbformat_minor": 5
}
