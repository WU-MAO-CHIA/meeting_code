{
 "cells": [
  {
   "cell_type": "code",
   "execution_count": 1,
   "id": "b5d71a18",
   "metadata": {},
   "outputs": [],
   "source": [
    "import tensorflow as tf\n",
    "from tensorflow import keras\n",
    "import pandas as pd\n",
    "from tensorflow.keras.layers import (\n",
    "    Dense,\n",
    "    Conv2D,\n",
    "    MaxPool2D,\n",
    "    Flatten,\n",
    "    Dropout,\n",
    "    BatchNormalization,\n",
    ")"
   ]
  },
  {
   "cell_type": "code",
   "execution_count": null,
   "id": "96d22992",
   "metadata": {},
   "outputs": [],
   "source": [
    "train_df = pd.read_csv('sign_mnist_train.csv')\n",
    "valid_df = pd.read_csv('sign_mnist_valid.csv')\n",
    "\n",
    "y_train = train_df['label']\n",
    "y_valid = valid_df['label']\n",
    "del train_df['label']\n",
    "del valid_df['label']\n",
    "\n",
    "x_train = train_df.values\n",
    "x_valid = valid_df.values\n",
    "\n",
    "num_classes = 24\n",
    "y_train = keras.utils.to_categorical(y_train, 24)\n",
    "y_valid = keras.utils.to_categorical(y_valid, 24)\n",
    "\n",
    "x_train = x_train / 255\n",
    "x_valid = x_valid / 255"
   ]
  },
  {
   "cell_type": "code",
   "execution_count": null,
   "id": "4fa28b14",
   "metadata": {},
   "outputs": [],
   "source": [
    "x_train.shape, x_valid.shape"
   ]
  },
  {
   "cell_type": "code",
   "execution_count": null,
   "id": "b4fb8416",
   "metadata": {},
   "outputs": [],
   "source": [
    "x_train = x_train.reshape(-1, 28, 28, 1)\n",
    "x_valid = x_valid.reshape(-1, 28, 28, 1)\n",
    "\n",
    "print(x_train.shape)\n",
    "print(x_valid.shape)"
   ]
  },
  {
   "cell_type": "code",
   "execution_count": null,
   "id": "d8dd3071",
   "metadata": {},
   "outputs": [],
   "source": [
    "model = tf.keras.models.Sequential([\n",
    "           Conv2D(75, (3,3), strides= 1, padding= 'same', activation= 'relu',input_shape=(28, 28, 1)), # padding= same(零填充), valid(no padding)\n",
    "           BatchNormalization(),\n",
    "           MaxPool2D((2, 2), strides= 2, padding= 'same'),\n",
    "           Conv2D(50, (3,3), strides= 1, padding= 'same', activation= 'relu'),\n",
    "           BatchNormalization(),\n",
    "           MaxPool2D((2, 2), strides= 2, padding= 'same'),\n",
    "           Conv2D(25, (3,3), strides= 1, padding= 'same', activation= 'relu'),\n",
    "           BatchNormalization(),\n",
    "           MaxPool2D((2, 2), strides= 2, padding= 'same'),\n",
    "           Flatten(),\n",
    "           Dense(512, activation= 'relu'),\n",
    "           Dense(num_classes, activation= 'softmax'),\n",
    "          ])"
   ]
  },
  {
   "cell_type": "code",
   "execution_count": null,
   "id": "b1c72668",
   "metadata": {},
   "outputs": [],
   "source": [
    "model.summary()"
   ]
  },
  {
   "cell_type": "code",
   "execution_count": null,
   "id": "d52f9f00",
   "metadata": {},
   "outputs": [],
   "source": [
    "model.compile(optimizer= 'adam',loss=\"categorical_crossentropy\", metrics=[\"accuracy\"])"
   ]
  },
  {
   "cell_type": "code",
   "execution_count": null,
   "id": "99447813",
   "metadata": {},
   "outputs": [],
   "source": [
    "model.fit(x_train, y_train, epochs= 5, verbose= 1, validation_data= (x_valid,y_valid))\n",
    "#verbose= 1 才會顯示下面的進度條"
   ]
  },
  {
   "cell_type": "code",
   "execution_count": null,
   "id": "e07a846c",
   "metadata": {},
   "outputs": [],
   "source": [
    "tf.saved_model.save(model, \"model\")"
   ]
  }
 ],
 "metadata": {
  "kernelspec": {
   "display_name": "Python 3 (ipykernel)",
   "language": "python",
   "name": "python3"
  },
  "language_info": {
   "codemirror_mode": {
    "name": "ipython",
    "version": 3
   },
   "file_extension": ".py",
   "mimetype": "text/x-python",
   "name": "python",
   "nbconvert_exporter": "python",
   "pygments_lexer": "ipython3",
   "version": "3.9.7"
  }
 },
 "nbformat": 4,
 "nbformat_minor": 5
}
